{
 "cells": [
  {
   "cell_type": "code",
   "execution_count": 71,
   "metadata": {},
   "outputs": [
    {
     "name": "stdout",
     "output_type": "stream",
     "text": [
      "[['Patient_1' '76.0' '126.0' '38.0']\n",
      " ['Patient_2' '74.0' '120.0' '38.0']\n",
      " ['Patient_3' '72.0' '118.0' '37.5']\n",
      " ['Patient_4' '78.0' '136.0' '37.0']]\n"
     ]
    }
   ],
   "source": [
    "import numpy as np\n",
    "\n",
    "data = np.array([\n",
    "    [76, 126, 38.0],\n",
    "    [74, 120, 38.0],\n",
    "    [72, 118, 37.5],\n",
    "    [78, 136, 37.0]\n",
    "])\n",
    "\n",
    "labels1 = np.array(['Patient_1', 'Patient_2', 'Patient_3', 'Patient_4'])\n",
    "data_with_labels = np.column_stack((labels1, data))\n",
    "print(data_with_labels)\n"
   ]
  },
  {
   "cell_type": "code",
   "execution_count": 15,
   "metadata": {},
   "outputs": [],
   "source": [
    "import math"
   ]
  },
  {
   "cell_type": "code",
   "execution_count": 54,
   "metadata": {},
   "outputs": [
    {
     "name": "stdout",
     "output_type": "stream",
     "text": [
      "The patient farthest from the rest is patient 3 with a total distance of 49.49900224398654\n"
     ]
    }
   ],
   "source": [
    "#1 Which patient is farthest\n",
    "far = 0\n",
    "max_distance = 0\n",
    "\n",
    "for i in range(len(data)):\n",
    "    distance_sum = 0\n",
    "    for j in range(len(data)):\n",
    "        distance = math.sqrt(sum((data[i][k] - data[j][k]) ** 2 for k in range(len(data[i]))))\n",
    "        distance_sum += distance\n",
    "    \n",
    "    if distance_sum > max_distance:\n",
    "        max_distance = distance_sum\n",
    "        far = i\n",
    "\n",
    "print(f\"The patient farthest from the rest is patient {far + 1} with a total distance of {max_distance}\")\n"
   ]
  },
  {
   "cell_type": "code",
   "execution_count": 26,
   "metadata": {},
   "outputs": [
    {
     "name": "stdout",
     "output_type": "stream",
     "text": [
      "The two nearest patients are patients 2 and 3 with a distance of 2.8722813232690143\n"
     ]
    }
   ],
   "source": [
    "#2 Which patients are nearest\n",
    "near = None\n",
    "min_distance = float('inf')\n",
    "\n",
    "for i in range(len(data)):\n",
    "    for j in range(i + 1, len(data)):  \n",
    "        distance = math.sqrt(sum((data[i][k] - data[j][k]) ** 2 for k in range(len(data[i]))))\n",
    "        \n",
    "        if distance < min_distance:\n",
    "            min_distance = distance\n",
    "            near = (i, j)\n",
    "\n",
    "print(f\"The two nearest patients are patients {near[0] + 1} and {near[1] + 1} with a distance of {min_distance}\")"
   ]
  },
  {
   "cell_type": "code",
   "execution_count": 74,
   "metadata": {},
   "outputs": [
    {
     "name": "stdout",
     "output_type": "stream",
     "text": [
      "[[ 76.  126.   38. ]\n",
      " [ 74.  120.   38. ]\n",
      " [ 72.  118.   37.5]\n",
      " [ 78.  136.   37. ]\n",
      " [ 77.  136.   38. ]]\n"
     ]
    }
   ],
   "source": [
    "\n",
    "new_row = np.array([77, 136, 38.0])\n",
    "\n",
    "data2=np.array(list(data) + [new_row])\n",
    "print(data2)\n"
   ]
  },
  {
   "cell_type": "code",
   "execution_count": 48,
   "metadata": {},
   "outputs": [
    {
     "name": "stdout",
     "output_type": "stream",
     "text": [
      "[[ 76.  126.   38. ]\n",
      " [ 74.  120.   38. ]\n",
      " [ 72.  118.   37.5]\n",
      " [ 78.  136.   37. ]\n",
      " [ 77.  136.   38. ]]\n"
     ]
    }
   ],
   "source": [
    "#3 add dummy row\n",
    "\"\"\"\n",
    "data = np.array([\n",
    "    [76, 126, 38.0],\n",
    "    [74, 120, 38.0],\n",
    "    [72, 118, 37.5],\n",
    "    [78, 136, 37.0],\n",
    "    [77, 136, 38.0]\n",
    "])\n",
    "print(data)"
   ]
  },
  {
   "cell_type": "code",
   "execution_count": 77,
   "metadata": {},
   "outputs": [
    {
     "name": "stdout",
     "output_type": "stream",
     "text": [
      "The two nearest patients are patients 4 and 5 with a distance of 1.4142135623730951\n"
     ]
    }
   ],
   "source": [
    "near = None\n",
    "min_distance = float('inf')\n",
    "\n",
    "for i in range(len(data2)):\n",
    "    for j in range(i + 1, len(data2)):  \n",
    "        distance = math.sqrt(sum((data2[i][k] - data2[j][k]) ** 2 for k in range(len(data2[i]))))\n",
    "        \n",
    "        if distance < min_distance:\n",
    "            min_distance = distance\n",
    "            near = (i, j)\n",
    "\n",
    "print(f\"The two nearest patients are patients {near[0] + 1} and {near[1] + 1} with a distance of {min_distance}\")"
   ]
  }
 ],
 "metadata": {
  "kernelspec": {
   "display_name": "aimlsem1",
   "language": "python",
   "name": "python3"
  },
  "language_info": {
   "codemirror_mode": {
    "name": "ipython",
    "version": 3
   },
   "file_extension": ".py",
   "mimetype": "text/x-python",
   "name": "python",
   "nbconvert_exporter": "python",
   "pygments_lexer": "ipython3",
   "version": "3.9.17"
  },
  "orig_nbformat": 4
 },
 "nbformat": 4,
 "nbformat_minor": 2
}
