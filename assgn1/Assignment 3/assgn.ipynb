{
 "cells": [
  {
   "cell_type": "code",
   "execution_count": 23,
   "metadata": {},
   "outputs": [],
   "source": [
    "import pandas as pd"
   ]
  },
  {
   "cell_type": "code",
   "execution_count": 24,
   "metadata": {},
   "outputs": [],
   "source": [
    "import numpy as np"
   ]
  },
  {
   "cell_type": "code",
   "execution_count": 25,
   "metadata": {},
   "outputs": [],
   "source": [
    "df = pd.read_csv('C:/Users/SA RAVI/Desktop/MIT/ALA/moviereviews.csv')"
   ]
  },
  {
   "cell_type": "code",
   "execution_count": 26,
   "metadata": {},
   "outputs": [
    {
     "data": {
      "text/html": [
       "<div>\n",
       "<style scoped>\n",
       "    .dataframe tbody tr th:only-of-type {\n",
       "        vertical-align: middle;\n",
       "    }\n",
       "\n",
       "    .dataframe tbody tr th {\n",
       "        vertical-align: top;\n",
       "    }\n",
       "\n",
       "    .dataframe thead th {\n",
       "        text-align: right;\n",
       "    }\n",
       "</style>\n",
       "<table border=\"1\" class=\"dataframe\">\n",
       "  <thead>\n",
       "    <tr style=\"text-align: right;\">\n",
       "      <th></th>\n",
       "      <th>movie</th>\n",
       "      <th>review</th>\n",
       "    </tr>\n",
       "  </thead>\n",
       "  <tbody>\n",
       "    <tr>\n",
       "      <th>0</th>\n",
       "      <td>The Lord of the Rings The Two Towers</td>\n",
       "      <td>remarkable display of fantasy action powerful ...</td>\n",
       "    </tr>\n",
       "    <tr>\n",
       "      <th>1</th>\n",
       "      <td>Inception</td>\n",
       "      <td>implanting stealing idea destroy gripping acti...</td>\n",
       "    </tr>\n",
       "    <tr>\n",
       "      <th>2</th>\n",
       "      <td>Spiderman Across the spider verse</td>\n",
       "      <td>mind bending wild action sequences intimate em...</td>\n",
       "    </tr>\n",
       "    <tr>\n",
       "      <th>3</th>\n",
       "      <td>The Dark Knight</td>\n",
       "      <td>Best live action portrayal beat organized crim...</td>\n",
       "    </tr>\n",
       "    <tr>\n",
       "      <th>4</th>\n",
       "      <td>Three colors red</td>\n",
       "      <td>mesmerising friendship turned love profound un...</td>\n",
       "    </tr>\n",
       "    <tr>\n",
       "      <th>5</th>\n",
       "      <td>It happened one night</td>\n",
       "      <td>Romantic comedy screwball comedy enduring tale...</td>\n",
       "    </tr>\n",
       "    <tr>\n",
       "      <th>6</th>\n",
       "      <td>In the Mood for Love</td>\n",
       "      <td>Neighbors solace bonding affair predicament sp...</td>\n",
       "    </tr>\n",
       "    <tr>\n",
       "      <th>7</th>\n",
       "      <td>Before Sunrise</td>\n",
       "      <td>blossoming love know each other chance encount...</td>\n",
       "    </tr>\n",
       "    <tr>\n",
       "      <th>8</th>\n",
       "      <td>Gone with the wind</td>\n",
       "      <td>epic romance greatest romantic film ever made ...</td>\n",
       "    </tr>\n",
       "    <tr>\n",
       "      <th>9</th>\n",
       "      <td>Eternal Sunshine of the Spotless Mind</td>\n",
       "      <td>Length people go finding love of life emotiona...</td>\n",
       "    </tr>\n",
       "    <tr>\n",
       "      <th>10</th>\n",
       "      <td>The Shawshank Redemption</td>\n",
       "      <td>movie about friendship life fight to be good p...</td>\n",
       "    </tr>\n",
       "    <tr>\n",
       "      <th>11</th>\n",
       "      <td>Raging Bull</td>\n",
       "      <td>brutal boxing sports movie turbulent life outs...</td>\n",
       "    </tr>\n",
       "    <tr>\n",
       "      <th>12</th>\n",
       "      <td>Lawrence of Arabia</td>\n",
       "      <td>classic adventure war movie psychological dram...</td>\n",
       "    </tr>\n",
       "  </tbody>\n",
       "</table>\n",
       "</div>"
      ],
      "text/plain": [
       "                                    movie  \\\n",
       "0    The Lord of the Rings The Two Towers   \n",
       "1                               Inception   \n",
       "2       Spiderman Across the spider verse   \n",
       "3                         The Dark Knight   \n",
       "4                        Three colors red   \n",
       "5                   It happened one night   \n",
       "6                    In the Mood for Love   \n",
       "7                          Before Sunrise   \n",
       "8                      Gone with the wind   \n",
       "9   Eternal Sunshine of the Spotless Mind   \n",
       "10               The Shawshank Redemption   \n",
       "11                            Raging Bull   \n",
       "12                     Lawrence of Arabia   \n",
       "\n",
       "                                               review  \n",
       "0   remarkable display of fantasy action powerful ...  \n",
       "1   implanting stealing idea destroy gripping acti...  \n",
       "2   mind bending wild action sequences intimate em...  \n",
       "3   Best live action portrayal beat organized crim...  \n",
       "4   mesmerising friendship turned love profound un...  \n",
       "5   Romantic comedy screwball comedy enduring tale...  \n",
       "6   Neighbors solace bonding affair predicament sp...  \n",
       "7   blossoming love know each other chance encount...  \n",
       "8   epic romance greatest romantic film ever made ...  \n",
       "9   Length people go finding love of life emotiona...  \n",
       "10  movie about friendship life fight to be good p...  \n",
       "11  brutal boxing sports movie turbulent life outs...  \n",
       "12  classic adventure war movie psychological dram...  "
      ]
     },
     "execution_count": 26,
     "metadata": {},
     "output_type": "execute_result"
    }
   ],
   "source": [
    "df"
   ]
  },
  {
   "cell_type": "code",
   "execution_count": 27,
   "metadata": {},
   "outputs": [
    {
     "data": {
      "text/html": [
       "<div>\n",
       "<style scoped>\n",
       "    .dataframe tbody tr th:only-of-type {\n",
       "        vertical-align: middle;\n",
       "    }\n",
       "\n",
       "    .dataframe tbody tr th {\n",
       "        vertical-align: top;\n",
       "    }\n",
       "\n",
       "    .dataframe thead th {\n",
       "        text-align: right;\n",
       "    }\n",
       "</style>\n",
       "<table border=\"1\" class=\"dataframe\">\n",
       "  <thead>\n",
       "    <tr style=\"text-align: right;\">\n",
       "      <th></th>\n",
       "      <th>movie</th>\n",
       "      <th>review</th>\n",
       "    </tr>\n",
       "  </thead>\n",
       "  <tbody>\n",
       "    <tr>\n",
       "      <th>0</th>\n",
       "      <td>The Lord of the Rings The Two Towers</td>\n",
       "      <td>remarkable display of fantasy action powerful ...</td>\n",
       "    </tr>\n",
       "    <tr>\n",
       "      <th>1</th>\n",
       "      <td>Inception</td>\n",
       "      <td>implanting stealing idea destroy gripping acti...</td>\n",
       "    </tr>\n",
       "    <tr>\n",
       "      <th>2</th>\n",
       "      <td>Spiderman Across the spider verse</td>\n",
       "      <td>mind bending wild action sequences intimate em...</td>\n",
       "    </tr>\n",
       "    <tr>\n",
       "      <th>3</th>\n",
       "      <td>The Dark Knight</td>\n",
       "      <td>Best live action portrayal beat organized crim...</td>\n",
       "    </tr>\n",
       "    <tr>\n",
       "      <th>4</th>\n",
       "      <td>Three colors red</td>\n",
       "      <td>mesmerising friendship turned love profound un...</td>\n",
       "    </tr>\n",
       "  </tbody>\n",
       "</table>\n",
       "</div>"
      ],
      "text/plain": [
       "                                  movie  \\\n",
       "0  The Lord of the Rings The Two Towers   \n",
       "1                             Inception   \n",
       "2     Spiderman Across the spider verse   \n",
       "3                       The Dark Knight   \n",
       "4                      Three colors red   \n",
       "\n",
       "                                              review  \n",
       "0  remarkable display of fantasy action powerful ...  \n",
       "1  implanting stealing idea destroy gripping acti...  \n",
       "2  mind bending wild action sequences intimate em...  \n",
       "3  Best live action portrayal beat organized crim...  \n",
       "4  mesmerising friendship turned love profound un...  "
      ]
     },
     "execution_count": 27,
     "metadata": {},
     "output_type": "execute_result"
    }
   ],
   "source": [
    "df = df.drop_duplicates(subset=['movie', 'review'])\n",
    "df.head()"
   ]
  },
  {
   "cell_type": "code",
   "execution_count": 28,
   "metadata": {},
   "outputs": [],
   "source": [
    "from collections import Counter"
   ]
  },
  {
   "cell_type": "code",
   "execution_count": 29,
   "metadata": {},
   "outputs": [],
   "source": [
    "#vectors\n",
    "rev = []\n",
    "for review in df['review']:\n",
    "    words = review.split()\n",
    "    vector = Counter(words)  \n",
    "    rev.append(vector)\n",
    "\n"
   ]
  },
  {
   "cell_type": "code",
   "execution_count": 37,
   "metadata": {},
   "outputs": [
    {
     "name": "stderr",
     "output_type": "stream",
     "text": [
      "C:\\Users\\SA RAVI\\AppData\\Local\\Temp\\ipykernel_1832\\3172519731.py:2: VisibleDeprecationWarning: Creating an ndarray from ragged nested sequences (which is a list-or-tuple of lists-or-tuples-or ndarrays with different lengths or shapes) is deprecated. If you meant to do this, you must specify 'dtype=object' when creating the ndarray.\n",
      "  numRevVec = np.array([list(vector.values()) for vector in rev])\n"
     ]
    }
   ],
   "source": [
    "# array\n",
    "numRevVec = np.array([list(vector.values()) for vector in rev])"
   ]
  },
  {
   "cell_type": "code",
   "execution_count": 43,
   "metadata": {},
   "outputs": [],
   "source": [
    "fullWords = set()\n",
    "for review in df['review']:\n",
    "    words = review.split()\n",
    "    fullWords.update(words)\n",
    "\n",
    "# movie review vectors\n",
    "movReview = {}\n",
    "for i, row in df.iterrows():\n",
    "    movie = row['movie']\n",
    "    review = row['review'].split()\n",
    "    reviewVector = np.array([1 if word in review else 0 for word in fullWords])\n",
    "    movReview[movie] = reviewVector"
   ]
  },
  {
   "cell_type": "code",
   "execution_count": 44,
   "metadata": {},
   "outputs": [],
   "source": [
    "def dotproduct(v1, v2):\n",
    "    result = 0\n",
    "    for word in v1:\n",
    "        if word in v2:\n",
    "            result += v1[word] * v2[word]\n",
    "    return result"
   ]
  },
  {
   "cell_type": "code",
   "execution_count": 45,
   "metadata": {},
   "outputs": [],
   "source": [
    "similarities = {}\n",
    "for movie1 in movReview:\n",
    "    for movie2 in movReview:\n",
    "        if movie1 != movie2:\n",
    "            similarity = dotproduct(movReview[movie1], movReview[movie2])\n",
    "            similarities[(movie1, movie2)] = similarity"
   ]
  },
  {
   "cell_type": "code",
   "execution_count": 46,
   "metadata": {},
   "outputs": [
    {
     "data": {
      "text/plain": [
       "[(('The Lord of the Rings The Two Towers', 'Inception'), 0),\n",
       " (('The Lord of the Rings The Two Towers',\n",
       "   'Spiderman Across the spider verse'),\n",
       "  0),\n",
       " (('The Lord of the Rings The Two Towers', 'The Dark Knight'), 0)]"
      ]
     },
     "execution_count": 46,
     "metadata": {},
     "output_type": "execute_result"
    }
   ],
   "source": [
    "top3similarpairs = sorted(similarities.items(), key=lambda x: x[1], reverse=True)[:3]\n",
    "top3similarpairs"
   ]
  },
  {
   "cell_type": "code",
   "execution_count": 48,
   "metadata": {},
   "outputs": [
    {
     "name": "stdout",
     "output_type": "stream",
     "text": [
      "Movies: The Lord of the Rings The Two Towers and Inception, Similarity: 0\n",
      "Movies: The Lord of the Rings The Two Towers and Spiderman Across the spider verse, Similarity: 0\n",
      "Movies: The Lord of the Rings The Two Towers and The Dark Knight, Similarity: 0\n"
     ]
    }
   ],
   "source": [
    "for pair, similarity in top3similarpairs:\n",
    "    print(f\"Movies: {pair[0]} and {pair[1]}, Similarity: {similarity}\")"
   ]
  },
  {
   "cell_type": "code",
   "execution_count": null,
   "metadata": {},
   "outputs": [],
   "source": []
  }
 ],
 "metadata": {
  "kernelspec": {
   "display_name": "aimlsem1",
   "language": "python",
   "name": "python3"
  },
  "language_info": {
   "codemirror_mode": {
    "name": "ipython",
    "version": 3
   },
   "file_extension": ".py",
   "mimetype": "text/x-python",
   "name": "python",
   "nbconvert_exporter": "python",
   "pygments_lexer": "ipython3",
   "version": "3.9.17"
  },
  "orig_nbformat": 4
 },
 "nbformat": 4,
 "nbformat_minor": 2
}
